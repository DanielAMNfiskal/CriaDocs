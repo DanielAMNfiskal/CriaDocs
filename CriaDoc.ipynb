{
 "cells": [
  {
   "cell_type": "code",
   "execution_count": 8,
   "metadata": {},
   "outputs": [],
   "source": [
    "from python_docx_replace import docx_replace\n",
    "import docx\n",
    "from datetime import date"
   ]
  },
  {
   "cell_type": "code",
   "execution_count": 9,
   "metadata": {},
   "outputs": [],
   "source": [
    "class DadosOBJ:\n",
    "    def __init__(self, empresa, sistema, biblioteca, autor, emailAutor, data):\n",
    "        self.empresa = empresa\n",
    "        self.sistema = sistema\n",
    "        self.biblioteca = biblioteca\n",
    "        self.autor = autor\n",
    "        self.emailAutor = emailAutor\n",
    "        self.data = data\n",
    "\n",
    "    def __str__(self) -> str:\n",
    "        return f\"{self.empresa}, {self.sistema}, {self.biblioteca}, {self.autor}, {self.emailAutor}, {self.data}\""
   ]
  },
  {
   "cell_type": "code",
   "execution_count": 10,
   "metadata": {},
   "outputs": [],
   "source": [
    "dadosDOC = DadosOBJ(\n",
    "    empresa = \"Claro\",\n",
    "    sistema = \"teste\",\n",
    "    biblioteca = \"s\",\n",
    "    autor = \"Daniel Augusto\",\n",
    "    emailAutor = \"daniel.novaes@fiskaldigital.com.br\",\n",
    "    data = date.today()\n",
    "    )"
   ]
  },
  {
   "cell_type": "code",
   "execution_count": 11,
   "metadata": {},
   "outputs": [],
   "source": [
    "class Cria_Documento:\n",
    "        \n",
    "    def Login(dadosDOC):\n",
    "\n",
    "        PDD_Login = docx.Document(r\"C:\\ArquivosDaniel\\Teste\\PDD_MODELO_Fiskal_Digital.docx\")\n",
    "        SDD_Login = docx.Document(r\"C:\\ArquivosDaniel\\Teste\\SDD_MODELO_Fiskal_Digital.docx\")\n",
    "\n",
    "        if \" \" in dadosDOC.sistema:\n",
    "            dadosDOC.sistema = dadosDOC.sistema.replace(\" \", \"_\")\n",
    "\n",
    "        dadosDOC.sistema = str.upper(dadosDOC.sistema)\n",
    "        dadosDOC.biblioteca = \"AutoIT\" if dadosDOC.biblioteca == \"a\" else \"Selenium\"\n",
    "\n",
    "        dadosInput = {\n",
    "        \"empresa\": str.upper(dadosDOC.empresa),\n",
    "        \"sistema\": str.upper(dadosDOC.sistema),\n",
    "        \"biblioteca\": dadosDOC.biblioteca,\n",
    "        \"autor\" : dadosDOC.autor,\n",
    "        \"emailAutor\": dadosDOC.emailAutor,\n",
    "        \"data\" : dadosDOC.data\n",
    "        }\n",
    "\n",
    "        nomeDoc = str.upper(dadosDOC.empresa) +\"_\"+ str.upper(dadosDOC.sistema)\n",
    "\n",
    "        docx_replace(PDD_Login, **dadosInput)\n",
    "        docx_replace(SDD_Login, **dadosInput)\n",
    "\n",
    "        PDD_Login.save(r\"C:\\ArquivosDaniel\\DOCS ToLogado\\PDD_\"+ nomeDoc+\".docx\")\n",
    "        SDD_Login.save(r\"C:\\ArquivosDaniel\\DOCS ToLogado\\SDD_\"+ nomeDoc+\".docx\")\n",
    "\n",
    "    def AbreSite(dadosDOC):\n",
    "                \n",
    "        PDD_AbreSite = docx.Document(r\"C:\\ArquivosDaniel\\Teste\\PDD_MODELO_AbreSite_Fiskal_Digital.docx\")\n",
    "        SDD_AbreSite = docx.Document(r\"C:\\ArquivosDaniel\\Teste\\SDD_MODELO_AbreSite_Fiskal_Digital.docx\")\n",
    "\n",
    "        if \" \" in dadosDOC.sistema:\n",
    "            dadosDOC.sistema = dadosDOC.sistema.replace(\" \", \"_\")\n",
    "\n",
    "        dadosDOC.sistema = str.upper(dadosDOC.sistema)\n",
    "        dadosDOC.biblioteca = \"AutoIT\" if dadosDOC.biblioteca == \"a\" else \"Selenium\"\n",
    "\n",
    "        dadosInput = {\n",
    "        \"empresa\": str.upper(dadosDOC.empresa),\n",
    "        \"sistema\": str.upper(dadosDOC.sistema),\n",
    "        \"biblioteca\": dadosDOC.biblioteca,\n",
    "        \"autor\" : dadosDOC.autor,\n",
    "        \"emailAutor\": dadosDOC.emailAutor,\n",
    "        \"data\" : dadosDOC.data\n",
    "        }\n",
    "\n",
    "        nomeDoc = str.upper(dadosDOC.empresa) +\"_\"+ str.upper(dadosDOC.sistema)\n",
    "\n",
    "        docx_replace(PDD_AbreSite, **dadosInput)\n",
    "        docx_replace(SDD_AbreSite, **dadosInput)\n",
    "\n",
    "        PDD_AbreSite.save(r\"C:\\ArquivosDaniel\\DOCS ToLogado\\PDD_\"+ nomeDoc+\".docx\")\n",
    "        SDD_AbreSite.save(r\"C:\\ArquivosDaniel\\DOCS ToLogado\\SDD_\"+ nomeDoc+\".docx\")       \n"
   ]
  },
  {
   "cell_type": "code",
   "execution_count": 12,
   "metadata": {},
   "outputs": [],
   "source": [
    "listaRobosAbreSite = [\"\"]"
   ]
  },
  {
   "cell_type": "code",
   "execution_count": 13,
   "metadata": {},
   "outputs": [],
   "source": [
    "listaRobosLogin = [\"\"]"
   ]
  },
  {
   "cell_type": "code",
   "execution_count": 14,
   "metadata": {},
   "outputs": [],
   "source": [
    "for i in listaRobosAbreSite:\n",
    "    dadosDOC.sistema = i\n",
    "    dadosDOC.biblioteca = input(\"Biblioteca usada: 'a' para AutoIT\")\n",
    "    Cria_Documento.AbreSite(dadosDOC)"
   ]
  },
  {
   "cell_type": "code",
   "execution_count": 15,
   "metadata": {},
   "outputs": [],
   "source": [
    "for i in listaRobosLogin:\n",
    "    dadosDOC.sistema = i\n",
    "    dadosDOC.biblioteca = input(\"Biblioteca usada: 'a' para AutoIT\")\n",
    "    Cria_Documento.Login(dadosDOC)"
   ]
  }
 ],
 "metadata": {
  "kernelspec": {
   "display_name": "Python 3",
   "language": "python",
   "name": "python3"
  },
  "language_info": {
   "codemirror_mode": {
    "name": "ipython",
    "version": 3
   },
   "file_extension": ".py",
   "mimetype": "text/x-python",
   "name": "python",
   "nbconvert_exporter": "python",
   "pygments_lexer": "ipython3",
   "version": "3.11.5"
  }
 },
 "nbformat": 4,
 "nbformat_minor": 2
}
